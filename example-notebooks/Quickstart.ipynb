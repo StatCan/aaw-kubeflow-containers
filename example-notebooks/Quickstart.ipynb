{
 "cells": [
  {
   "cell_type": "markdown",
   "metadata": {},
   "source": [
    "# Quickstart to Kubeflow\n",
    "\n",
    "For how to interact with the Kubeflow dashboard and creating notebook servers please see https://www.kubeflow.org/docs/notebooks/setup/.\n"
   ]
  },
  {
   "cell_type": "markdown",
   "metadata": {},
   "source": [
    "## Storage and Disks\n",
    "\n",
    "Your home directory is under /home/jovyan. Aim to use it for code and scripts as its size is limited.\n"
   ]
  },
  {
   "cell_type": "code",
   "execution_count": null,
   "metadata": {
    "ExecuteTime": {
     "end_time": "2020-04-06T15:34:42.821079Z",
     "start_time": "2020-04-06T15:34:42.644636Z"
    }
   },
   "outputs": [],
   "source": [
    "! pwd"
   ]
  },
  {
   "cell_type": "markdown",
   "metadata": {},
   "source": [
    "Volumes or Data disks specified in the notebook server configuration are mounted as shown below."
   ]
  },
  {
   "cell_type": "code",
   "execution_count": null,
   "metadata": {
    "ExecuteTime": {
     "end_time": "2020-04-06T15:35:33.803690Z",
     "start_time": "2020-04-06T15:35:33.653674Z"
    }
   },
   "outputs": [],
   "source": [
    "! df -h"
   ]
  },
  {
   "cell_type": "markdown",
   "metadata": {},
   "source": [
    "## Compute Resources\n",
    "\n",
    "Compute resources are available as in regular virtual machines. Monitoring can be done, for example via `htop` in a terminal.\n"
   ]
  },
  {
   "cell_type": "markdown",
   "metadata": {},
   "source": [
    "## GUI Setup\n",
    "\n",
    "The user can switch between Jupyter lab and Jupyter notebooks via \n",
    "\n",
    "* Jupyter Notebook: https://kubeflow.covid.cloud.statcan.ca/notebook/[user]/test/lab\n",
    "* Jupyter Lab: https://kubeflow.covid.cloud.statcan.ca/notebook/[user]/test/tree\n",
    "\n",
    "Another option is to enable a browser for extensions as shown below\n",
    "\n",
    "![test](images/jupyter.png)\n"
   ]
  },
  {
   "cell_type": "markdown",
   "metadata": {},
   "source": [
    "### Visualization via matplotlib is shown below"
   ]
  },
  {
   "cell_type": "code",
   "execution_count": null,
   "metadata": {
    "ExecuteTime": {
     "end_time": "2020-04-06T16:12:06.108897Z",
     "start_time": "2020-04-06T16:12:01.503895Z"
    }
   },
   "outputs": [],
   "source": [
    "import matplotlib.pyplot as plt\n",
    "%matplotlib inline"
   ]
  },
  {
   "cell_type": "code",
   "execution_count": null,
   "metadata": {
    "ExecuteTime": {
     "end_time": "2020-04-06T16:11:57.043574Z",
     "start_time": "2020-04-06T16:11:57.030722Z"
    }
   },
   "outputs": [],
   "source": [
    "print('Have fun!')"
   ]
  },
  {
   "cell_type": "code",
   "execution_count": null,
   "metadata": {
    "ExecuteTime": {
     "end_time": "2020-04-06T16:12:53.009560Z",
     "start_time": "2020-04-06T16:12:52.420670Z"
    }
   },
   "outputs": [],
   "source": [
    "plt.plot([1,2],[3,2])"
   ]
  },
  {
   "cell_type": "markdown",
   "metadata": {},
   "source": [
    "For Jupyter functionalities please refer to the multitude of tutorials."
   ]
  },
  {
   "cell_type": "markdown",
   "metadata": {},
   "source": [
    "## Data Acquisition\n",
    "\n",
    "Please use `wget`, python tools or the upload button in the Jupyter menu to add data to Kubeflow."
   ]
  },
  {
   "cell_type": "markdown",
   "metadata": {},
   "source": [
    "This concludes this quickstart. For further examples, see the MachineLearningExamples directory."
   ]
  },
  {
   "cell_type": "code",
   "execution_count": null,
   "metadata": {},
   "outputs": [],
   "source": []
  }
 ],
 "metadata": {
  "kernelspec": {
   "display_name": "Python 3",
   "language": "python",
   "name": "python3"
  },
  "language_info": {
   "codemirror_mode": {
    "name": "ipython",
    "version": 3
   },
   "file_extension": ".py",
   "mimetype": "text/x-python",
   "name": "python",
   "nbconvert_exporter": "python",
   "pygments_lexer": "ipython3",
   "version": "3.6.10"
  },
  "toc": {
   "base_numbering": 1,
   "nav_menu": {},
   "number_sections": true,
   "sideBar": true,
   "skip_h1_title": false,
   "title_cell": "Table of Contents",
   "title_sidebar": "Contents",
   "toc_cell": false,
   "toc_position": {},
   "toc_section_display": true,
   "toc_window_display": false
  }
 },
 "nbformat": 4,
 "nbformat_minor": 4
}
