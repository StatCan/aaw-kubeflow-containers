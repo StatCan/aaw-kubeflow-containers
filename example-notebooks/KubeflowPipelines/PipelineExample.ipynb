{
 "cells": [
  {
   "cell_type": "markdown",
   "metadata": {},
   "source": [
    "# Example of Creating a Pipeline"
   ]
  },
  {
   "cell_type": "code",
   "execution_count": 6,
   "metadata": {},
   "outputs": [],
   "source": [
    "import kfp\n",
    "from kfp import dsl\n",
    "# kfp-server-api==0.1.18.3"
   ]
  },
  {
   "cell_type": "code",
   "execution_count": 2,
   "metadata": {},
   "outputs": [],
   "source": [
    "\n",
    "def gcs_download_op(url):\n",
    "    return dsl.ContainerOp(\n",
    "        name='GCS - Download',\n",
    "        image='google/cloud-sdk:272.0.0',\n",
    "        command=['sh', '-c'],\n",
    "        arguments=['gsutil cat $0 | tee $1', url, '/tmp/results.txt'],\n",
    "        file_outputs={\n",
    "            'data': '/tmp/results.txt',\n",
    "        }\n",
    "    )\n",
    "\n",
    "\n",
    "def echo2_op(text1, text2):\n",
    "    return dsl.ContainerOp(\n",
    "        name='echo',\n",
    "        image='library/bash:4.4.23',\n",
    "        command=['sh', '-c'],\n",
    "        arguments=['echo \"Text 1: $0\"; echo \"Text 2: $1\"', text1, text2]\n",
    "    )\n",
    "\n",
    "\n",
    "@dsl.pipeline(\n",
    "  name='Parallel pipeline',\n",
    "  description='Download two messages in parallel and prints the concatenated result.'\n",
    ")\n",
    "def download_and_join(\n",
    "    url1='gs://ml-pipeline-playground/shakespeare1.txt',\n",
    "    url2='gs://ml-pipeline-playground/shakespeare2.txt'\n",
    "):\n",
    "    \"\"\"A three-step pipeline with first two running in parallel.\"\"\"\n",
    "\n",
    "    download1_task = gcs_download_op(url1)\n",
    "    download2_task = gcs_download_op(url2)\n",
    "\n",
    "    echo_task = echo2_op(download1_task.output, download2_task.output)\n"
   ]
  },
  {
   "cell_type": "markdown",
   "metadata": {},
   "source": [
    "* Docomentation: https://kubeflow-pipelines.readthedocs.io/en/latest/source/kfp.client.html"
   ]
  },
  {
   "cell_type": "code",
   "execution_count": 4,
   "metadata": {},
   "outputs": [],
   "source": [
    "# creates pipeline package which can be uploaded to pipelines.\n",
    "kfp.compiler.Compiler().compile(download_and_join, 'test3.tar.gz')"
   ]
  },
  {
   "cell_type": "code",
   "execution_count": 5,
   "metadata": {},
   "outputs": [
    {
     "data": {
      "text/html": [
       "Pipeline link <a href=/pipeline/#/pipelines/details/51699106-36de-4d96-9ebb-6fd1eaf09e3b>here</a>"
      ],
      "text/plain": [
       "<IPython.core.display.HTML object>"
      ]
     },
     "metadata": {},
     "output_type": "display_data"
    },
    {
     "data": {
      "text/plain": [
       "{'created_at': datetime.datetime(2020, 4, 8, 17, 58, 21, tzinfo=tzlocal()),\n",
       " 'description': None,\n",
       " 'error': None,\n",
       " 'id': '51699106-36de-4d96-9ebb-6fd1eaf09e3b',\n",
       " 'name': 'MyFirstPipeline223',\n",
       " 'parameters': [{'name': 'url1',\n",
       "                 'value': 'gs://ml-pipeline-playground/shakespeare1.txt'},\n",
       "                {'name': 'url2',\n",
       "                 'value': 'gs://ml-pipeline-playground/shakespeare2.txt'}],\n",
       " 'url': None}"
      ]
     },
     "execution_count": 5,
     "metadata": {},
     "output_type": "execute_result"
    }
   ],
   "source": [
    "kfp.Client().upload_pipeline('test3.tar.gz', pipeline_name='MyFirstPipeline223')"
   ]
  },
  {
   "cell_type": "code",
   "execution_count": 14,
   "metadata": {},
   "outputs": [
    {
     "data": {
      "text/html": [
       "Experiment link <a href=\"/pipeline/#/experiments/details/d9b9fb18-3920-472c-881f-9a098ef15c43\" target=\"_blank\" >here</a>"
      ],
      "text/plain": [
       "<IPython.core.display.HTML object>"
      ]
     },
     "metadata": {},
     "output_type": "display_data"
    },
    {
     "data": {
      "text/html": [
       "Run link <a href=\"/pipeline/#/runs/details/54376811-f0f2-47ed-ae05-7eea139a8a3f\" target=\"_blank\" >here</a>"
      ],
      "text/plain": [
       "<IPython.core.display.HTML object>"
      ]
     },
     "metadata": {},
     "output_type": "display_data"
    },
    {
     "data": {
      "text/plain": [
       "RunPipelineResult(run_id=54376811-f0f2-47ed-ae05-7eea139a8a3f)"
      ]
     },
     "execution_count": 14,
     "metadata": {},
     "output_type": "execute_result"
    }
   ],
   "source": [
    "#Submit a pipeline run directly (does not create template pipeline in contrast to upload_pipeline)\n",
    "kfp.Client().create_run_from_pipeline_func(download_and_join, arguments={}, run_name=None, experiment_name='bleepbloop')"
   ]
  },
  {
   "cell_type": "code",
   "execution_count": null,
   "metadata": {},
   "outputs": [],
   "source": []
  }
 ],
 "metadata": {
  "kernelspec": {
   "display_name": "Python 3",
   "language": "python",
   "name": "python3"
  },
  "language_info": {
   "codemirror_mode": {
    "name": "ipython",
    "version": 3
   },
   "file_extension": ".py",
   "mimetype": "text/x-python",
   "name": "python",
   "nbconvert_exporter": "python",
   "pygments_lexer": "ipython3",
   "version": "3.7.6"
  }
 },
 "nbformat": 4,
 "nbformat_minor": 4
}
